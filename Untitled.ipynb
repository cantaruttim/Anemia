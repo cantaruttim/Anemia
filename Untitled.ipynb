{
 "cells": [
  {
   "cell_type": "code",
   "execution_count": null,
   "id": "96003dd9",
   "metadata": {},
   "outputs": [
    {
     "name": "stderr",
     "output_type": "stream",
     "text": [
      "C:\\Users\\Matheus\\anaconda3\\lib\\site-packages\\scipy\\__init__.py:146: UserWarning: A NumPy version >=1.16.5 and <1.23.0 is required for this version of SciPy (detected version 1.23.5\n",
      "  warnings.warn(f\"A NumPy version >={np_minversion} and <{np_maxversion}\"\n"
     ]
    }
   ],
   "source": [
    "import pandas as pd\n",
    "import seaborn as sns\n",
    "import numpy as np\n",
    "import matplotlib.pyplot as plt\n",
    "%matplotlib inline"
   ]
  },
  {
   "cell_type": "markdown",
   "id": "dd834cbb",
   "metadata": {},
   "source": [
    "- _Hemoglobin_: Hemoglobin is a protein in your red blood cells that carries oxygen to your body's organs and tissues and transports carbon dioxide from your organs and tissues back to your lungs\n",
    "\n",
    "<br />\n",
    "\n",
    "- _MCH_: MCH is short for \"mean corpuscular hemoglobin.\" It's the average amount in each of your red blood cells of a protein called hemoglobin, which carries oxygen around your body.\n",
    "\n",
    "<br />\n",
    "\n",
    "- _MCHC_: MCHC stands for mean corpuscular hemoglobin concentration. It's a measure of the average concentration of hemoglobin inside a single red blood cell.\n",
    "\n",
    "<br />\n",
    "\n",
    "- _MCV_: MCV stands for mean corpuscular volume. An MCV blood test measures the average size of your red blood cells.\n",
    "\n",
    "<br />\n",
    "\n",
    "- _Results_: 0- not anemic, 1-anemic"
   ]
  },
  {
   "cell_type": "code",
   "execution_count": null,
   "id": "394ed6be",
   "metadata": {},
   "outputs": [],
   "source": [
    "df = pd.read_csv('anemia.csv')"
   ]
  },
  {
   "cell_type": "code",
   "execution_count": null,
   "id": "866bd382",
   "metadata": {},
   "outputs": [],
   "source": [
    "# mostrando como estão preenchidas as tabelas, e mostrando as primeiras linhas do dataframe\n",
    "df.info(),df.head()"
   ]
  },
  {
   "cell_type": "code",
   "execution_count": null,
   "id": "1ac82a6e",
   "metadata": {},
   "outputs": [],
   "source": [
    "# Male = 0 \n",
    "# Femlae = 1\n",
    "# proportion is not so different between groups\n",
    "\n",
    "sns.countplot(df['Gender']);"
   ]
  },
  {
   "cell_type": "code",
   "execution_count": null,
   "id": "3771b53c",
   "metadata": {},
   "outputs": [],
   "source": [
    "# Not anemic = 0\n",
    "# Anemic = 1\n",
    "\n",
    "sns.countplot(df['Result']);"
   ]
  },
  {
   "cell_type": "code",
   "execution_count": null,
   "id": "80eb5b22",
   "metadata": {},
   "outputs": [],
   "source": [
    "# Observando os valores médios de cada variável\n",
    "Hb_mean = np.mean(df['Hemoglobin']), \n",
    "MCH_mean = np.mean(df['MCH']), \n",
    "MCHC_mean = np.mean(df['MCHC']), \n",
    "MCV_mean = np.mean(df['MCV'])\n",
    "\n",
    "Hb_mean, MCH_mean, MCHC_mean, MCV_mean"
   ]
  },
  {
   "cell_type": "code",
   "execution_count": null,
   "id": "f4908689",
   "metadata": {},
   "outputs": [],
   "source": [
    "Hb_median = np.median(df['Hemoglobin'])\n",
    "Hb_median"
   ]
  },
  {
   "cell_type": "code",
   "execution_count": null,
   "id": "0dd2dff8",
   "metadata": {},
   "outputs": [],
   "source": [
    "sns.heatmap(df.corr(), annot=True,linewidths=.5)"
   ]
  },
  {
   "cell_type": "code",
   "execution_count": null,
   "id": "22bd5b72",
   "metadata": {},
   "outputs": [],
   "source": [
    "sns.histplot(df['Hemoglobin'], kde=True);"
   ]
  },
  {
   "cell_type": "code",
   "execution_count": null,
   "id": "97332bbc",
   "metadata": {},
   "outputs": [],
   "source": [
    "sns.histplot(df['MCH'], kde=True);"
   ]
  },
  {
   "cell_type": "code",
   "execution_count": null,
   "id": "050a389d",
   "metadata": {},
   "outputs": [],
   "source": [
    "sns.histplot(df['MCHC'], kde=True);"
   ]
  },
  {
   "cell_type": "code",
   "execution_count": null,
   "id": "3d174825",
   "metadata": {},
   "outputs": [],
   "source": [
    "sns.histplot(df['MCV'], kde=True);"
   ]
  },
  {
   "cell_type": "code",
   "execution_count": null,
   "id": "effc65dc",
   "metadata": {},
   "outputs": [],
   "source": [
    "# resultado que mais se difereciou entre os positivos e os negativos\n",
    "sns.ecdfplot(data=df, x=\"Hemoglobin\", hue='Result',\n",
    "            palette=\"colorblind\");"
   ]
  },
  {
   "cell_type": "code",
   "execution_count": null,
   "id": "cc8a3168",
   "metadata": {},
   "outputs": [],
   "source": [
    "fig, ax = plt.subplots(ncols = 2, nrows=2, figsize=(15,10));\n",
    "fig.suptitle(\"HB VARIATIONS\", size=30, color='white')\n",
    "\n",
    "ax[0, 0].plot(df['Hemoglobin'], color=\"red\")\n",
    "ax[0, 0].set_title(\"Hemoglobin\", color='white', fontsize=15)\n",
    "\n",
    "ax[0, 1].plot(df['MCH'], color=\"red\")\n",
    "ax[0, 1].set_title(\"mean corpuscular hemoglobin\", color='white', fontsize=15)\n",
    "\n",
    "ax[1, 0].plot(df['MCHC'], color=\"red\")\n",
    "ax[1, 0].set_title(\"mean corpuscular hemoglobin concentration\", color='white', fontsize=15)\n",
    "\n",
    "\n",
    "ax[1, 1].plot(df['MCV'], color=\"red\")\n",
    "ax[1, 1].set_title(\"mean corpuscular volume\", color='white', fontsize=15)"
   ]
  },
  {
   "cell_type": "code",
   "execution_count": null,
   "id": "31ef55c1",
   "metadata": {},
   "outputs": [],
   "source": [
    "g = sns.PairGrid(df)\n",
    "g.map_diag(sns.histplot, kde=True, color='Green')\n",
    "g.map_offdiag(sns.scatterplot, color=\"gray\", s=6);"
   ]
  },
  {
   "cell_type": "code",
   "execution_count": null,
   "id": "f8723727",
   "metadata": {},
   "outputs": [],
   "source": [
    "fig, ax = plt.subplots(ncols = 3, nrows=1, figsize=(15,5), sharex='col', sharey='row');\n",
    "plt.subplots_adjust(wspace=0, hspace=0)\n",
    "\n",
    "# Como as variáveis se relacionam com a Concentração de Hemoglobina\n",
    "# Encontramos uma relação interessante entre Hemoglobina e o MCHC.\n",
    "# Vamores baixos de Hb são seguidos de valores baixos de MCHC\n",
    "\n",
    "sns.lineplot(ax=ax[0], data=df, x='Hemoglobin', y='MCHC', color='red');\n",
    "sns.lineplot(ax=ax[1], data=df, x='MCH', y='MCHC', color='green');\n",
    "sns.lineplot(ax=ax[2], data=df, x='MCV', y='MCHC', color='purple');"
   ]
  },
  {
   "cell_type": "code",
   "execution_count": null,
   "id": "8002b1be",
   "metadata": {},
   "outputs": [],
   "source": [
    "sns.lmplot(\n",
    "    data=df, x=\"Hemoglobin\", y=\"MCHC\",\n",
    "    fit_reg = True, scatter=True, hue='Result', palette='flare',\n",
    ");"
   ]
  },
  {
   "cell_type": "markdown",
   "id": "af390416",
   "metadata": {},
   "source": [
    "### Treinando o Modelo de dados"
   ]
  },
  {
   "cell_type": "code",
   "execution_count": null,
   "id": "20300059",
   "metadata": {},
   "outputs": [],
   "source": [
    "X = df.iloc[:, 0:5].values\n",
    "X"
   ]
  },
  {
   "cell_type": "code",
   "execution_count": null,
   "id": "8751736c",
   "metadata": {},
   "outputs": [],
   "source": [
    "y = df.iloc[:, 5].values\n",
    "y"
   ]
  },
  {
   "cell_type": "markdown",
   "id": "80e33158",
   "metadata": {},
   "source": [
    "### Realizando os testes "
   ]
  },
  {
   "cell_type": "code",
   "execution_count": null,
   "id": "3d1bbc0e",
   "metadata": {},
   "outputs": [],
   "source": [
    "from sklearn.model_selection import train_test_split\n",
    "from sklearn.naive_bayes import GaussianNB\n",
    "from sklearn.linear_model import LogisticRegression\n",
    "from sklearn.ensemble import RandomForestClassifier\n",
    "from sklearn.metrics import confusion_matrix, accuracy_score, classification_report"
   ]
  },
  {
   "cell_type": "code",
   "execution_count": null,
   "id": "e818b556",
   "metadata": {},
   "outputs": [],
   "source": [
    "X_train, X_test, y_train, y_test = train_test_split(X, y, test_size=0.2)"
   ]
  },
  {
   "cell_type": "code",
   "execution_count": null,
   "id": "38490ee9",
   "metadata": {},
   "outputs": [],
   "source": [
    "naive = GaussianNB()\n",
    "naive.fit(X_test, y_test)"
   ]
  },
  {
   "cell_type": "code",
   "execution_count": null,
   "id": "cc328947",
   "metadata": {},
   "outputs": [],
   "source": [
    "# Resultado do algoritmo Naive Bayes\n",
    "naive.score(X_test, y_test)"
   ]
  },
  {
   "cell_type": "code",
   "execution_count": null,
   "id": "612f48b8",
   "metadata": {},
   "outputs": [],
   "source": [
    "predictions_naive = naive.predict(X_test)"
   ]
  },
  {
   "cell_type": "code",
   "execution_count": null,
   "id": "e846830d",
   "metadata": {},
   "outputs": [],
   "source": [
    "confusion_matrix(predictions_naive, y_test)"
   ]
  },
  {
   "cell_type": "code",
   "execution_count": null,
   "id": "e2966a2e",
   "metadata": {},
   "outputs": [],
   "source": [
    "sns.heatmap(confusion_matrix(predictions_naive, y_test), \n",
    "            annot= True, cmap=\"mako\");"
   ]
  },
  {
   "cell_type": "code",
   "execution_count": null,
   "id": "cba48f3b",
   "metadata": {},
   "outputs": [],
   "source": [
    "logistic = LogisticRegression()\n",
    "logistic.fit(X, y)"
   ]
  },
  {
   "cell_type": "code",
   "execution_count": null,
   "id": "520a41c2",
   "metadata": {},
   "outputs": [],
   "source": [
    "logistic.score(X, y)"
   ]
  },
  {
   "cell_type": "code",
   "execution_count": null,
   "id": "a80ee5e5",
   "metadata": {},
   "outputs": [],
   "source": [
    "predictions_logistica = logistic.predict(X_test)"
   ]
  },
  {
   "cell_type": "code",
   "execution_count": null,
   "id": "fcf0d9fc",
   "metadata": {},
   "outputs": [],
   "source": [
    "sns.heatmap(confusion_matrix(predictions_logistica, y_test), \n",
    "            annot= True, cmap=\"mako\");"
   ]
  },
  {
   "cell_type": "code",
   "execution_count": null,
   "id": "3a8749e9",
   "metadata": {},
   "outputs": [],
   "source": [
    "floresta = RandomForestClassifier()\n",
    "floresta.fit(X, y)"
   ]
  },
  {
   "cell_type": "code",
   "execution_count": null,
   "id": "df400522",
   "metadata": {},
   "outputs": [],
   "source": [
    "floresta.score(X, y)"
   ]
  },
  {
   "cell_type": "code",
   "execution_count": null,
   "id": "1d69ffa2",
   "metadata": {},
   "outputs": [],
   "source": [
    "predictions_florest = floresta.predict(X_test)"
   ]
  },
  {
   "cell_type": "code",
   "execution_count": null,
   "id": "410baed1",
   "metadata": {},
   "outputs": [],
   "source": [
    "sns.heatmap(confusion_matrix(predictions_florest, y_test), \n",
    "            annot= True, cmap=\"mako\");"
   ]
  }
 ],
 "metadata": {
  "kernelspec": {
   "display_name": "Python 3 (ipykernel)",
   "language": "python",
   "name": "python3"
  },
  "language_info": {
   "codemirror_mode": {
    "name": "ipython",
    "version": 3
   },
   "file_extension": ".py",
   "mimetype": "text/x-python",
   "name": "python",
   "nbconvert_exporter": "python",
   "pygments_lexer": "ipython3",
   "version": "3.9.12"
  }
 },
 "nbformat": 4,
 "nbformat_minor": 5
}
